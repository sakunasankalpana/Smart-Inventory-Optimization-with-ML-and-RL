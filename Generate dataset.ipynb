{
 "cells": [
  {
   "cell_type": "code",
   "execution_count": 2,
   "id": "cabd9fa9",
   "metadata": {},
   "outputs": [
    {
     "name": "stdout",
     "output_type": "stream",
     "text": [
      "        Date  Product_ID  Quantity_Sold      Price  Promotion  Holiday\n",
      "0 2023-01-01           0             31  24.041678          0        0\n",
      "1 2023-01-01           1             38  68.579963          0        0\n",
      "2 2023-01-01           3             40  29.110520          0        0\n",
      "3 2023-01-01           2             24  36.210623          0        0\n",
      "4 2023-01-02           0              1  87.394637          0        0\n"
     ]
    }
   ],
   "source": [
    "import pandas as pd\n",
    "import numpy as np\n",
    "\n",
    "# Set random seed for reproducibility\n",
    "np.random.seed(42)\n",
    "\n",
    "# Define parameters\n",
    "num_products = 5  # Number of unique products\n",
    "start_date = '2023-01-01'\n",
    "end_date = '2023-12-31'\n",
    "date_range = pd.date_range(start=start_date, end=end_date, freq='D')\n",
    "\n",
    "# Generate synthetic data\n",
    "data = []\n",
    "\n",
    "for date in date_range:\n",
    "    # Randomly decide how many products are sold on this day (between 1 and num_products)\n",
    "    num_products_sold_today = np.random.randint(1, num_products + 1)\n",
    "    \n",
    "    # Randomly select which products are sold today\n",
    "    products_sold_today = np.random.choice(range(num_products), size=num_products_sold_today, replace=False)\n",
    "    \n",
    "    for product_id in products_sold_today:\n",
    "        # Base quantity sold (random between 10 and 50)\n",
    "        base_quantity = np.random.randint(10, 50)\n",
    "        \n",
    "        # Price (random between 10 and 100)\n",
    "        price = np.random.uniform(10, 100)\n",
    "        \n",
    "        # Promotion (random binary flag, 20% chance of promotion)\n",
    "        promotion = np.random.choice([0, 1], p=[0.8, 0.2])\n",
    "        \n",
    "        # Holiday (random binary flag, 10% chance of holiday)\n",
    "        holiday = np.random.choice([0, 1], p=[0.9, 0.1])\n",
    "        \n",
    "        # Adjust quantity sold based on promotion and holiday\n",
    "        if promotion:\n",
    "            base_quantity *= 1.5  # Increase sales during promotions\n",
    "        if holiday:\n",
    "            base_quantity *= 1.2  # Increase sales during holidays\n",
    "        \n",
    "        # Add some noise to quantity sold\n",
    "        quantity_sold = int(base_quantity + np.random.normal(0, 5))\n",
    "        \n",
    "        # Append to data\n",
    "        data.append([date, product_id, quantity_sold, price, promotion, holiday])\n",
    "\n",
    "# Create DataFrame\n",
    "columns = ['Date', 'Product_ID', 'Quantity_Sold', 'Price', 'Promotion', 'Holiday']\n",
    "df = pd.DataFrame(data, columns=columns)\n",
    "\n",
    "# Save to CSV\n",
    "df.to_csv(\"synthetic_sales_data_shuffled.csv\", index=False)\n",
    "\n",
    "# Display the first few rows\n",
    "print(df.head())"
   ]
  },
  {
   "cell_type": "code",
   "execution_count": null,
   "id": "a3dae8bf",
   "metadata": {},
   "outputs": [],
   "source": []
  }
 ],
 "metadata": {
  "kernelspec": {
   "display_name": "Python 3 (ipykernel)",
   "language": "python",
   "name": "python3"
  },
  "language_info": {
   "codemirror_mode": {
    "name": "ipython",
    "version": 3
   },
   "file_extension": ".py",
   "mimetype": "text/x-python",
   "name": "python",
   "nbconvert_exporter": "python",
   "pygments_lexer": "ipython3",
   "version": "3.9.7"
  }
 },
 "nbformat": 4,
 "nbformat_minor": 5
}

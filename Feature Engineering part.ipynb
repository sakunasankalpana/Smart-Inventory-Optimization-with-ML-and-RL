{
 "cells": [
  {
   "cell_type": "code",
   "execution_count": 1,
   "id": "4e9466a5",
   "metadata": {},
   "outputs": [
    {
     "name": "stdout",
     "output_type": "stream",
     "text": [
      "       Date  Product_ID  Quantity_Sold      Price  Promotion  Holiday\n",
      "0  1/1/2023           0             31  24.041678          0        0\n",
      "1  1/1/2023           1             38  68.579963          0        0\n",
      "2  1/1/2023           3             40  29.110520          0        0\n",
      "3  1/1/2023           2             24  36.210623          0        0\n",
      "4  1/2/2023           0              1  87.394637          0        0\n",
      "Date             0\n",
      "Product_ID       0\n",
      "Quantity_Sold    0\n",
      "Price            0\n",
      "Promotion        0\n",
      "Holiday          0\n",
      "dtype: int64\n",
      "        Product_ID  Quantity_Sold        Price    Promotion      Holiday\n",
      "count  1123.000000    1123.000000  1123.000000  1123.000000  1123.000000\n",
      "mean      1.979519      32.278718    55.066381     0.181656     0.071238\n",
      "std       1.420040      15.117477    26.323018     0.385733     0.257336\n",
      "min       0.000000       0.000000    10.067294     0.000000     0.000000\n",
      "25%       1.000000      21.000000    32.420226     0.000000     0.000000\n",
      "50%       2.000000      32.000000    56.060241     0.000000     0.000000\n",
      "75%       3.000000      42.000000    77.415602     0.000000     0.000000\n",
      "max       4.000000      90.000000    99.951962     1.000000     1.000000\n"
     ]
    }
   ],
   "source": [
    "import pandas as pd\n",
    "import numpy as np\n",
    "\n",
    "# Load the dataset\n",
    "df = pd.read_csv(\"synthetic_sales_data_shuffled.csv\")\n",
    "\n",
    "# Display the first few rows\n",
    "print(df.head())\n",
    "\n",
    "# Check for missing values\n",
    "print(df.isnull().sum())\n",
    "\n",
    "# Basic statistics\n",
    "print(df.describe())"
   ]
  },
  {
   "cell_type": "code",
   "execution_count": 3,
   "id": "c266e634",
   "metadata": {},
   "outputs": [
    {
     "data": {
      "text/plain": [
       "'\" *2.1 Temporal Features*\\nExtract useful information from the Date column:\\n- *Day of the week*: Demand may vary by weekday vs. weekend.\\n- *Month*: Seasonal trends may affect demand.\\n- *Year*: Long-term trends.\\n- *Week of the year*: Weekly patterns.'"
      ]
     },
     "execution_count": 3,
     "metadata": {},
     "output_type": "execute_result"
    }
   ],
   "source": [
    "\"\"\"\" *2.1 Temporal Features*\n",
    "Extract useful information from the Date column:\n",
    "- *Day of the week*: Demand may vary by weekday vs. weekend.\n",
    "- *Month*: Seasonal trends may affect demand.\n",
    "- *Year*: Long-term trends.\n",
    "- *Week of the year*: Weekly patterns.\"\"\""
   ]
  },
  {
   "cell_type": "code",
   "execution_count": 4,
   "id": "7c9b83f6",
   "metadata": {},
   "outputs": [],
   "source": [
    "# Convert Date column to datetime\n",
    "df['Date'] = pd.to_datetime(df['Date'])\n",
    "\n",
    "# Extract temporal features\n",
    "df['Day_of_week'] = df['Date'].dt.dayofweek  # Monday=0, Sunday=6\n",
    "df['Month'] = df['Date'].dt.month\n",
    "df['Year'] = df['Date'].dt.year\n",
    "df['Week_of_year'] = df['Date'].dt.isocalendar().week"
   ]
  },
  {
   "cell_type": "code",
   "execution_count": 5,
   "id": "566654bc",
   "metadata": {},
   "outputs": [],
   "source": [
    "# *2.2 Lagged Features*\n",
    "#Create lagged demand features to capture historical trends:\n",
    "#- *Lag 7*: Demand from 7 days ago (to capture weekly patterns).\n",
    "#- *Lag 30*: Demand from 30 days ago (to capture monthly patterns)."
   ]
  },
  {
   "cell_type": "code",
   "execution_count": 6,
   "id": "25761464",
   "metadata": {},
   "outputs": [],
   "source": [
    "# Sort by Product_ID and Date\n",
    "df = df.sort_values(by=['Product_ID', 'Date'])\n",
    "\n",
    "# Create lagged features\n",
    "df['Lag_7'] = df.groupby('Product_ID')['Quantity_Sold'].shift(7)\n",
    "df['Lag_30'] = df.groupby('Product_ID')['Quantity_Sold'].shift(30)"
   ]
  },
  {
   "cell_type": "code",
   "execution_count": 7,
   "id": "e8d42d33",
   "metadata": {},
   "outputs": [],
   "source": [
    "# *2.3 Rolling Statistics*\n",
    "#Create rolling statistics to capture trends and seasonality:\n",
    "#- *Rolling Mean (7 days)*: Average demand over the past 7 days.\n",
    "#- *Rolling Std (7 days)*: Standard deviation of demand over the past 7 days."
   ]
  },
  {
   "cell_type": "code",
   "execution_count": 8,
   "id": "66b36b97",
   "metadata": {},
   "outputs": [],
   "source": [
    "# Rolling statistics\n",
    "df['Rolling_Mean_7'] = df.groupby('Product_ID')['Quantity_Sold'].transform(lambda x: x.rolling(window=7, min_periods=1).mean())\n",
    "df['Rolling_Std_7'] = df.groupby('Product_ID')['Quantity_Sold'].transform(lambda x: x.rolling(window=7, min_periods=1).std())"
   ]
  },
  {
   "cell_type": "code",
   "execution_count": 9,
   "id": "6633ec63",
   "metadata": {},
   "outputs": [],
   "source": [
    "# *2.4 Price Change Features*\n",
    "#Capture the impact of price changes on demand:\n",
    "#- *Price Change*: Difference between the current price and the price from the previous day."
   ]
  },
  {
   "cell_type": "code",
   "execution_count": 10,
   "id": "223251d4",
   "metadata": {},
   "outputs": [],
   "source": [
    "# Price change feature\n",
    "df['Price_Change'] = df.groupby('Product_ID')['Price'].diff()"
   ]
  },
  {
   "cell_type": "code",
   "execution_count": 11,
   "id": "1f791af1",
   "metadata": {},
   "outputs": [],
   "source": [
    "# *2.5 Promotion and Holiday Impact*\n",
    "#Create interaction features to capture the combined effect of promotions and holidays:\n",
    "#- *Promotion_Holiday*: Interaction between Promotion and Holiday."
   ]
  },
  {
   "cell_type": "code",
   "execution_count": 12,
   "id": "11f03b73",
   "metadata": {},
   "outputs": [],
   "source": [
    "# Interaction feature\n",
    "df['Promotion_Holiday'] = df['Promotion'] * df['Holiday']"
   ]
  },
  {
   "cell_type": "code",
   "execution_count": 13,
   "id": "a9067870",
   "metadata": {},
   "outputs": [],
   "source": [
    "# Handle Missing Value\n",
    "# Fill missing values\n",
    "df['Lag_7'].fillna(0, inplace=True)\n",
    "df['Lag_30'].fillna(0, inplace=True)\n",
    "df['Rolling_Mean_7'].fillna(df['Quantity_Sold'], inplace=True)\n",
    "df['Rolling_Std_7'].fillna(0, inplace=True)\n",
    "df['Price_Change'].fillna(0, inplace=True)"
   ]
  },
  {
   "cell_type": "code",
   "execution_count": 14,
   "id": "140e5e2d",
   "metadata": {},
   "outputs": [],
   "source": [
    "# One-hot encode Day_of_week\n",
    "df = pd.get_dummies(df, columns=['Day_of_week'], prefix='Day')\n",
    "\n",
    "# Label encode Product_ID\n",
    "from sklearn.preprocessing import LabelEncoder\n",
    "le = LabelEncoder()\n",
    "df['Product_ID'] = le.fit_transform(df['Product_ID'])"
   ]
  },
  {
   "cell_type": "code",
   "execution_count": 15,
   "id": "3d31964b",
   "metadata": {},
   "outputs": [],
   "source": [
    "# Save to a new CSV file\n",
    "df.to_csv(\"processed_sales_data.csv\", index=False)"
   ]
  },
  {
   "cell_type": "code",
   "execution_count": null,
   "id": "9adb3a3f",
   "metadata": {},
   "outputs": [],
   "source": []
  }
 ],
 "metadata": {
  "kernelspec": {
   "display_name": "Python 3 (ipykernel)",
   "language": "python",
   "name": "python3"
  },
  "language_info": {
   "codemirror_mode": {
    "name": "ipython",
    "version": 3
   },
   "file_extension": ".py",
   "mimetype": "text/x-python",
   "name": "python",
   "nbconvert_exporter": "python",
   "pygments_lexer": "ipython3",
   "version": "3.9.7"
  }
 },
 "nbformat": 4,
 "nbformat_minor": 5
}
